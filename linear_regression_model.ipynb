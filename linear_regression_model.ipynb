{
 "cells": [
  {
   "cell_type": "code",
   "execution_count": null,
   "id": "3f8d913d",
   "metadata": {},
   "outputs": [],
   "source": [
    "# Importing libraries\n",
    "import pandas as pd\n",
    "from pathlib import Path\n",
    "from sklearn.linear_model import LinearRegression"
   ]
  },
  {
   "cell_type": "code",
   "execution_count": null,
   "id": "adbd48d2",
   "metadata": {},
   "outputs": [],
   "source": [
    "# Loading the data\n",
    "file_path = \"Resources/flight_data.csv\"\n",
    "flight_df = pd.read_csv(file_path)\n",
    "flight_df.head()"
   ]
  },
  {
   "cell_type": "code",
   "execution_count": null,
   "id": "b8b3eae2",
   "metadata": {},
   "outputs": [],
   "source": [
    "# Cleaning the data"
   ]
  },
  {
   "cell_type": "code",
   "execution_count": null,
   "id": "c5568c56",
   "metadata": {},
   "outputs": [],
   "source": [
    "# Encoding the data"
   ]
  },
  {
   "cell_type": "code",
   "execution_count": null,
   "id": "8d68e4bd",
   "metadata": {},
   "outputs": [],
   "source": [
    "# Reshaping if necessary"
   ]
  },
  {
   "cell_type": "code",
   "execution_count": null,
   "id": "60ecff42",
   "metadata": {},
   "outputs": [],
   "source": [
    "# Splitting into X and y variables\n",
    "X = pd.get_dummies(flight_df.drop(outcome), axis = 1)\n",
    "\n",
    "y = flight_df[outcome]"
   ]
  },
  {
   "cell_type": "code",
   "execution_count": null,
   "id": "e89477d1",
   "metadata": {},
   "outputs": [],
   "source": [
    "# Creating a linear-regression model\n",
    "model = LinearRegression()"
   ]
  },
  {
   "cell_type": "code",
   "execution_count": null,
   "id": "cb32e028",
   "metadata": {},
   "outputs": [],
   "source": [
    "# Creating the learning stage (fitting the model)\n",
    "model.fit(X, y)"
   ]
  },
  {
   "cell_type": "code",
   "execution_count": null,
   "id": "4043a367",
   "metadata": {},
   "outputs": [],
   "source": [
    "# Returning the number of predictions for the line\n",
    "y_pred = model.predict(X)\n",
    "print(y_pred.shape)"
   ]
  },
  {
   "cell_type": "code",
   "execution_count": null,
   "id": "a74e91bd",
   "metadata": {},
   "outputs": [],
   "source": [
    "# Using the model to delays from variables\n",
    "plt.scatter(X, y)\n",
    "plt.plot(X, y_pred, color='red')\n",
    "plt.show()"
   ]
  },
  {
   "cell_type": "code",
   "execution_count": null,
   "id": "2ee46ad5",
   "metadata": {},
   "outputs": [],
   "source": [
    "# Getting the slope and intercept from the model\n",
    "print(model.coef_)\n",
    "print(model.intercept_)"
   ]
  },
  {
   "cell_type": "code",
   "execution_count": null,
   "id": "1d82fe45",
   "metadata": {},
   "outputs": [],
   "source": []
  },
  {
   "cell_type": "code",
   "execution_count": null,
   "id": "8935685b",
   "metadata": {},
   "outputs": [],
   "source": []
  },
  {
   "cell_type": "code",
   "execution_count": null,
   "id": "28d14aaf",
   "metadata": {},
   "outputs": [],
   "source": []
  }
 ],
 "metadata": {
  "kernelspec": {
   "display_name": "mlenv",
   "language": "python",
   "name": "mlenv"
  },
  "language_info": {
   "codemirror_mode": {
    "name": "ipython",
    "version": 3
   },
   "file_extension": ".py",
   "mimetype": "text/x-python",
   "name": "python",
   "nbconvert_exporter": "python",
   "pygments_lexer": "ipython3",
   "version": "3.7.11"
  }
 },
 "nbformat": 4,
 "nbformat_minor": 5
}
